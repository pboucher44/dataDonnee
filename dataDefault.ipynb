{
  "nbformat": 4,
  "nbformat_minor": 0,
  "metadata": {
    "language_info": {
      "codemirror_mode": {
        "name": "ipython",
        "version": 3
      },
      "file_extension": ".py",
      "mimetype": "text/x-python",
      "name": "python",
      "nbconvert_exporter": "python",
      "pygments_lexer": "ipython3",
      "version": "3.7.6-final"
    },
    "orig_nbformat": 2,
    "kernelspec": {
      "name": "python37664bitbasecondaa2a8c5f7543642c3b215ce41d7670e3b",
      "display_name": "Python 3.7.6 64-bit ('base': conda)",
      "language": "python"
    },
    "colab": {
      "name": "dataDefault.ipynb",
      "provenance": [],
      "collapsed_sections": []
    }
  },
  "cells": [
    {
      "cell_type": "code",
      "metadata": {
        "colab": {
          "base_uri": "https://localhost:8080/"
        },
        "id": "gfGdl6nr2A01",
        "outputId": "d4601836-11c6-4832-bbf2-8f3638b9ec43"
      },
      "source": [
        "from google.colab import drive\n",
        "drive.mount('/content/drive')"
      ],
      "execution_count": 6,
      "outputs": [
        {
          "output_type": "stream",
          "text": [
            "Drive already mounted at /content/drive; to attempt to forcibly remount, call drive.mount(\"/content/drive\", force_remount=True).\n"
          ],
          "name": "stdout"
        }
      ]
    },
    {
      "cell_type": "markdown",
      "metadata": {
        "id": "whjYlH3Y_E8O"
      },
      "source": [
        "# Contexte\r\n",
        "A partir des données mises à disposition dans le fichier savukoskikirkonkyla.xlsx et climat.xlsx, notre objectif est de chercher et retrouver quelle capitale européenne est associée aux mesures présente dans climat.xlsx\r\n",
        "\r\n",
        "# Analyse du sujet\r\n",
        "Pour réaliser le TP, nous avons importé les données du fichier savukoskikirkonkyla.xls pour avoir des données de référence. Pour travailler avec celle-ci, contrairement à la consigne, nous avons utilisé les librairies pandas et numpy. Elles nous ont permis d'importer les données et de créer des graphiques pour avoir de rapides aperçus. Dans les données fournit du fichier des valeurs étaient absurdes. On a dû les supprimer et réaliser un interpolate linéaire. Ensuite, nous avons pu réaliser la manipulation des données et exercer les diverses consignes pour mener à bien notre enquête.\r\n",
        "Nous avons ensuite comparé ces données avec celle du pays recherché pour voir les différence de température et deviner le pays.\r\n",
        "\r\n",
        "\r\n"
      ]
    },
    {
      "cell_type": "markdown",
      "metadata": {
        "id": "tjYZHi1qE0zQ"
      },
      "source": [
        "# chargement des données officielles issus de l'open data poru servir de référence.\r\n"
      ]
    },
    {
      "cell_type": "code",
      "metadata": {
        "id": "_CO2iBsd1x_H"
      },
      "source": [
        "import numpy as np\n",
        "import pandas as pd\n",
        "from scipy import misc\n",
        "\n",
        "sourceDataFrame = pd.read_csv(\"/content/drive/MyDrive/mon drive/cours/qualite des donnees/app_python/data/climatcorrect.csv\")\n",
        "pd.set_option(\"display.max.columns\", None)\n",
        "\n",
        "del sourceDataFrame['jour']\n"
      ],
      "execution_count": 38,
      "outputs": []
    },
    {
      "cell_type": "markdown",
      "metadata": {
        "id": "SZ0OWaOnDSN5"
      },
      "source": [
        "# Moyenne des températures par mois\r\n"
      ]
    },
    {
      "cell_type": "code",
      "metadata": {
        "colab": {
          "base_uri": "https://localhost:8080/",
          "height": 503
        },
        "id": "UKSLV8671x_S",
        "outputId": "9b6f65d8-ce34-4755-b191-487bdcb60da1"
      },
      "source": [
        "print(\"Moyenne des températures par mois sur toute l'année 2018.\")\n",
        "sourceDataFrame.mean().plot(kind='line', use_index=True)\n",
        "sourceDataFrame.mean()"
      ],
      "execution_count": 39,
      "outputs": [
        {
          "output_type": "stream",
          "text": [
            "Moyenne des températures par mois sur toute l'année 2018.\n"
          ],
          "name": "stdout"
        },
        {
          "output_type": "execute_result",
          "data": {
            "text/plain": [
              "janvier      -8.967742\n",
              "février      -4.928571\n",
              "mars          1.193548\n",
              "avril         8.000000\n",
              "mai          12.903226\n",
              "juin         17.033333\n",
              "juillet      18.322581\n",
              "aout         17.838710\n",
              "septembre    10.500000\n",
              "octobre       3.870968\n",
              "novembre     -0.333333\n",
              "décembre     -7.000000\n",
              "dtype: float64"
            ]
          },
          "metadata": {
            "tags": []
          },
          "execution_count": 39
        },
        {
          "output_type": "display_data",
          "data": {
            "image/png": "[encoded data removed]",
            "text/plain": [
              "<Figure size 432x288 with 1 Axes>"
            ]
          },
          "metadata": {
            "tags": [],
            "needs_background": "light"
          }
        }
      ]
    },
    {
      "cell_type": "markdown",
      "metadata": {
        "id": "c5YMKIeuDV-x"
      },
      "source": [
        "# Température maximale par mois sur toute l'année 2018.\r\n"
      ]
    },
    {
      "cell_type": "code",
      "metadata": {
        "colab": {
          "base_uri": "https://localhost:8080/",
          "height": 503
        },
        "id": "izzGRNOc1x_P",
        "outputId": "153b1256-1eea-44a4-eb96-94bc334527e7"
      },
      "source": [
        "print(\"Température maximale par mois sur toute l'année 2018.\")\n",
        "sourceDataFrame.max().plot(kind='line', use_index=True)\n",
        "sourceDataFrame.max()"
      ],
      "execution_count": 40,
      "outputs": [
        {
          "output_type": "stream",
          "text": [
            "Température maximale par mois sur toute l'année 2018.\n"
          ],
          "name": "stdout"
        },
        {
          "output_type": "execute_result",
          "data": {
            "text/plain": [
              "janvier      -3.0\n",
              "février       5.0\n",
              "mars          7.0\n",
              "avril        16.0\n",
              "mai          18.0\n",
              "juin         22.0\n",
              "juillet      26.0\n",
              "aout         26.0\n",
              "septembre    16.0\n",
              "octobre       7.0\n",
              "novembre      5.0\n",
              "décembre     -3.0\n",
              "dtype: float64"
            ]
          },
          "metadata": {
            "tags": []
          },
          "execution_count": 40
        },
        {
          "output_type": "display_data",
          "data": {
            "image/png": "[encoded data removed]",
            "text/plain": [
              "<Figure size 432x288 with 1 Axes>"
            ]
          },
          "metadata": {
            "tags": [],
            "needs_background": "light"
          }
        }
      ]
    },
    {
      "cell_type": "markdown",
      "metadata": {
        "id": "phU3IwtXDX3E"
      },
      "source": [
        "# Température minimale par mois sur toute l'année 2018.\r\n"
      ]
    },
    {
      "cell_type": "code",
      "metadata": {
        "colab": {
          "base_uri": "https://localhost:8080/",
          "height": 503
        },
        "id": "5xPgQXeG1x_R",
        "outputId": "6d548a41-1a58-471c-87ad-2ea084db70f2"
      },
      "source": [
        "print(\"Température minimale par mois sur toute l'année 2018.\")\n",
        "sourceDataFrame.min().plot(kind='line', use_index=True)\n",
        "sourceDataFrame.min()"
      ],
      "execution_count": 41,
      "outputs": [
        {
          "output_type": "stream",
          "text": [
            "Température minimale par mois sur toute l'année 2018.\n"
          ],
          "name": "stdout"
        },
        {
          "output_type": "execute_result",
          "data": {
            "text/plain": [
              "janvier     -23.0\n",
              "février     -12.0\n",
              "mars         -8.0\n",
              "avril         2.0\n",
              "mai           5.0\n",
              "juin         11.0\n",
              "juillet      13.0\n",
              "aout         14.0\n",
              "septembre     6.0\n",
              "octobre       1.0\n",
              "novembre     -8.0\n",
              "décembre    -11.0\n",
              "dtype: float64"
            ]
          },
          "metadata": {
            "tags": []
          },
          "execution_count": 41
        },
        {
          "output_type": "display_data",
          "data": {
            "image/png": "[encoded data removed]",
            "text/plain": [
              "<Figure size 432x288 with 1 Axes>"
            ]
          },
          "metadata": {
            "tags": [],
            "needs_background": "light"
          }
        }
      ]
    },
    {
      "cell_type": "markdown",
      "metadata": {
        "id": "BsWM_LZ_DZsw"
      },
      "source": [
        "# écart type des températures par mois sur toute l'année 2018.\r\n"
      ]
    },
    {
      "cell_type": "code",
      "metadata": {
        "colab": {
          "base_uri": "https://localhost:8080/",
          "height": 486
        },
        "id": "q1dc5WIuI5_R",
        "outputId": "70c542e6-e975-49be-d86d-6d6ba9a8ebdd"
      },
      "source": [
        "sourceDataFrame.std().plot(kind='line', use_index=True)\r\n",
        "sourceDataFrame.std()"
      ],
      "execution_count": 42,
      "outputs": [
        {
          "output_type": "execute_result",
          "data": {
            "text/plain": [
              "janvier      4.490611\n",
              "février      4.561746\n",
              "mars         3.506369\n",
              "avril        3.151354\n",
              "mai          4.036127\n",
              "juin         3.011281\n",
              "juillet      3.571994\n",
              "aout         2.696872\n",
              "septembre    2.330458\n",
              "octobre      1.802627\n",
              "novembre     3.717000\n",
              "décembre     2.065591\n",
              "dtype: float64"
            ]
          },
          "metadata": {
            "tags": []
          },
          "execution_count": 42
        },
        {
          "output_type": "display_data",
          "data": {
            "image/png": "[encoded data removed]",
            "text/plain": [
              "<Figure size 432x288 with 1 Axes>"
            ]
          },
          "metadata": {
            "tags": [],
            "needs_background": "light"
          }
        }
      ]
    },
    {
      "cell_type": "markdown",
      "metadata": {
        "id": "JaM5d2HWDcMQ"
      },
      "source": [
        "# toutes les courbes sur un même tableau\r\n"
      ]
    },
    {
      "cell_type": "code",
      "metadata": {
        "colab": {
          "base_uri": "https://localhost:8080/",
          "height": 282
        },
        "id": "FN6zj2pjKRP5",
        "outputId": "2f3fdc81-09ac-40c7-b27b-9446409a653d"
      },
      "source": [
        "sourceDataFrame.plot(kind='line')"
      ],
      "execution_count": 43,
      "outputs": [
        {
          "output_type": "execute_result",
          "data": {
            "text/plain": [
              "<matplotlib.axes._subplots.AxesSubplot at 0x7fc47c235518>"
            ]
          },
          "metadata": {
            "tags": []
          },
          "execution_count": 43
        },
        {
          "output_type": "display_data",
          "data": {
            "image/png": "[encoded data removed]",
            "text/plain": [
              "<Figure size 432x288 with 1 Axes>"
            ]
          },
          "metadata": {
            "tags": [],
            "needs_background": "light"
          }
        }
      ]
    },
    {
      "cell_type": "code",
      "metadata": {
        "colab": {
          "base_uri": "https://localhost:8080/",
          "height": 419
        },
        "id": "xIsilq-fbbxA",
        "outputId": "322e9d4d-735a-4da4-b33a-e9ca61df3323"
      },
      "source": [
        "annualValues = []\r\n",
        "\r\n",
        "for name, values in sourceDataFrame.iteritems():\r\n",
        "    for dayValue in values:\r\n",
        "      if(np.logical_not(np.isnan(dayValue))):\r\n",
        "            annualValues.append(dayValue)\r\n",
        "\r\n",
        "d = {'degreesPerDay': annualValues}\r\n",
        "dataframePerDay = pd.DataFrame(data=d)\r\n",
        "dataframePerDay"
      ],
      "execution_count": 44,
      "outputs": [
        {
          "output_type": "execute_result",
          "data": {
            "text/html": [
              "<div>\n",
              "<style scoped>\n",
              "    .dataframe tbody tr th:only-of-type {\n",
              "        vertical-align: middle;\n",
              "    }\n",
              "\n",
              "    .dataframe tbody tr th {\n",
              "        vertical-align: top;\n",
              "    }\n",
              "\n",
              "    .dataframe thead th {\n",
              "        text-align: right;\n",
              "    }\n",
              "</style>\n",
              "<table border=\"1\" class=\"dataframe\">\n",
              "  <thead>\n",
              "    <tr style=\"text-align: right;\">\n",
              "      <th></th>\n",
              "      <th>degreesPerDay</th>\n",
              "    </tr>\n",
              "  </thead>\n",
              "  <tbody>\n",
              "    <tr>\n",
              "      <th>0</th>\n",
              "      <td>-5.0</td>\n",
              "    </tr>\n",
              "    <tr>\n",
              "      <th>1</th>\n",
              "      <td>-6.0</td>\n",
              "    </tr>\n",
              "    <tr>\n",
              "      <th>2</th>\n",
              "      <td>-5.0</td>\n",
              "    </tr>\n",
              "    <tr>\n",
              "      <th>3</th>\n",
              "      <td>-3.0</td>\n",
              "    </tr>\n",
              "    <tr>\n",
              "      <th>4</th>\n",
              "      <td>-6.0</td>\n",
              "    </tr>\n",
              "    <tr>\n",
              "      <th>...</th>\n",
              "      <td>...</td>\n",
              "    </tr>\n",
              "    <tr>\n",
              "      <th>360</th>\n",
              "      <td>-7.0</td>\n",
              "    </tr>\n",
              "    <tr>\n",
              "      <th>361</th>\n",
              "      <td>-8.0</td>\n",
              "    </tr>\n",
              "    <tr>\n",
              "      <th>362</th>\n",
              "      <td>-6.0</td>\n",
              "    </tr>\n",
              "    <tr>\n",
              "      <th>363</th>\n",
              "      <td>-7.0</td>\n",
              "    </tr>\n",
              "    <tr>\n",
              "      <th>364</th>\n",
              "      <td>-5.0</td>\n",
              "    </tr>\n",
              "  </tbody>\n",
              "</table>\n",
              "<p>365 rows × 1 columns</p>\n",
              "</div>"
            ],
            "text/plain": [
              "     degreesPerDay\n",
              "0             -5.0\n",
              "1             -6.0\n",
              "2             -5.0\n",
              "3             -3.0\n",
              "4             -6.0\n",
              "..             ...\n",
              "360           -7.0\n",
              "361           -8.0\n",
              "362           -6.0\n",
              "363           -7.0\n",
              "364           -5.0\n",
              "\n",
              "[365 rows x 1 columns]"
            ]
          },
          "metadata": {
            "tags": []
          },
          "execution_count": 44
        }
      ]
    },
    {
      "cell_type": "code",
      "metadata": {
        "colab": {
          "base_uri": "https://localhost:8080/",
          "height": 282
        },
        "id": "Kz0hyTMzg1xZ",
        "outputId": "d8b73940-c8f2-4742-81d1-5d4cd47cdb52"
      },
      "source": [
        "dataframePerDay.plot(kind='line')"
      ],
      "execution_count": 45,
      "outputs": [
        {
          "output_type": "execute_result",
          "data": {
            "text/plain": [
              "<matplotlib.axes._subplots.AxesSubplot at 0x7fc47c21b940>"
            ]
          },
          "metadata": {
            "tags": []
          },
          "execution_count": 45
        },
        {
          "output_type": "display_data",
          "data": {
            "image/png": "[encoded data removed]",
            "text/plain": [
              "<Figure size 432x288 with 1 Axes>"
            ]
          },
          "metadata": {
            "tags": [],
            "needs_background": "light"
          }
        }
      ]
    },
    {
      "cell_type": "markdown",
      "metadata": {
        "id": "LLT14z1XDhf6"
      },
      "source": [
        "# Chargement des données en erreurs\r\n"
      ]
    },
    {
      "cell_type": "code",
      "metadata": {
        "colab": {
          "base_uri": "https://localhost:8080/",
          "height": 1000
        },
        "id": "UbTsd5Uz1x_V",
        "outputId": "9d094347-1c60-4848-d2a5-790ca941ce1b"
      },
      "source": [
        "# L'objectif va donc être d'essayer d'obtenir à peu près la même structure de dataframe que pour notre source officielle.abs\n",
        "# Nous pourrons donc par la suite comparer ces données (en faisant un dernier dataframe avec les données éronnés et les données issu de la source officielle).\n",
        "wrongDataFrame = pd.read_csv(\"/content/drive/MyDrive/mon drive/cours/qualite des donnees/app_python/data/climaterreur.csv\")\n",
        "del wrongDataFrame['jour']\n",
        "wrongDataFrame"
      ],
      "execution_count": 47,
      "outputs": [
        {
          "output_type": "execute_result",
          "data": {
            "text/html": [
              "<div>\n",
              "<style scoped>\n",
              "    .dataframe tbody tr th:only-of-type {\n",
              "        vertical-align: middle;\n",
              "    }\n",
              "\n",
              "    .dataframe tbody tr th {\n",
              "        vertical-align: top;\n",
              "    }\n",
              "\n",
              "    .dataframe thead th {\n",
              "        text-align: right;\n",
              "    }\n",
              "</style>\n",
              "<table border=\"1\" class=\"dataframe\">\n",
              "  <thead>\n",
              "    <tr style=\"text-align: right;\">\n",
              "      <th></th>\n",
              "      <th>janvier</th>\n",
              "      <th>février</th>\n",
              "      <th>mars</th>\n",
              "      <th>avril</th>\n",
              "      <th>mai</th>\n",
              "      <th>juin</th>\n",
              "      <th>juillet</th>\n",
              "      <th>aout</th>\n",
              "      <th>septembre</th>\n",
              "      <th>octobre</th>\n",
              "      <th>novembre</th>\n",
              "      <th>décembre</th>\n",
              "    </tr>\n",
              "  </thead>\n",
              "  <tbody>\n",
              "    <tr>\n",
              "      <th>0</th>\n",
              "      <td>-5</td>\n",
              "      <td>-7.0</td>\n",
              "      <td>-7</td>\n",
              "      <td>2.0</td>\n",
              "      <td>12</td>\n",
              "      <td>17</td>\n",
              "      <td>20</td>\n",
              "      <td>20</td>\n",
              "      <td>16.0</td>\n",
              "      <td>6</td>\n",
              "      <td>0.0</td>\n",
              "      <td>-6</td>\n",
              "    </tr>\n",
              "    <tr>\n",
              "      <th>1</th>\n",
              "      <td>-6</td>\n",
              "      <td>-6.0</td>\n",
              "      <td>-8</td>\n",
              "      <td>3.0</td>\n",
              "      <td>14</td>\n",
              "      <td>16</td>\n",
              "      <td>20</td>\n",
              "      <td>19</td>\n",
              "      <td>14.0</td>\n",
              "      <td>2</td>\n",
              "      <td>1.0</td>\n",
              "      <td>-4</td>\n",
              "    </tr>\n",
              "    <tr>\n",
              "      <th>2</th>\n",
              "      <td>-5</td>\n",
              "      <td>-5.0</td>\n",
              "      <td>-5</td>\n",
              "      <td>4.0</td>\n",
              "      <td>15</td>\n",
              "      <td>17</td>\n",
              "      <td>17</td>\n",
              "      <td>19</td>\n",
              "      <td>15.0</td>\n",
              "      <td>3</td>\n",
              "      <td>2.0</td>\n",
              "      <td>-8</td>\n",
              "    </tr>\n",
              "    <tr>\n",
              "      <th>3</th>\n",
              "      <td>-3</td>\n",
              "      <td>-6.0</td>\n",
              "      <td>-3</td>\n",
              "      <td>6.0</td>\n",
              "      <td>16</td>\n",
              "      <td>14</td>\n",
              "      <td>18</td>\n",
              "      <td>18</td>\n",
              "      <td>13.0</td>\n",
              "      <td>4</td>\n",
              "      <td>3.0</td>\n",
              "      <td>-9</td>\n",
              "    </tr>\n",
              "    <tr>\n",
              "      <th>4</th>\n",
              "      <td>-6</td>\n",
              "      <td>-8.0</td>\n",
              "      <td>-2</td>\n",
              "      <td>4.0</td>\n",
              "      <td>13</td>\n",
              "      <td>15</td>\n",
              "      <td>17</td>\n",
              "      <td>17</td>\n",
              "      <td>12.0</td>\n",
              "      <td>3</td>\n",
              "      <td>4.0</td>\n",
              "      <td>-9</td>\n",
              "    </tr>\n",
              "    <tr>\n",
              "      <th>5</th>\n",
              "      <td>-11</td>\n",
              "      <td>-9.0</td>\n",
              "      <td>1</td>\n",
              "      <td>5.0</td>\n",
              "      <td>12</td>\n",
              "      <td>17</td>\n",
              "      <td>17</td>\n",
              "      <td>18</td>\n",
              "      <td>10.0</td>\n",
              "      <td>2</td>\n",
              "      <td>3.0</td>\n",
              "      <td>-9</td>\n",
              "    </tr>\n",
              "    <tr>\n",
              "      <th>6</th>\n",
              "      <td>-6</td>\n",
              "      <td>5.0</td>\n",
              "      <td>2</td>\n",
              "      <td>4.0</td>\n",
              "      <td>8</td>\n",
              "      <td>17</td>\n",
              "      <td>16</td>\n",
              "      <td>16</td>\n",
              "      <td>12.0</td>\n",
              "      <td>4</td>\n",
              "      <td>4.0</td>\n",
              "      <td>-8</td>\n",
              "    </tr>\n",
              "    <tr>\n",
              "      <th>7</th>\n",
              "      <td>-8</td>\n",
              "      <td>-11.0</td>\n",
              "      <td>1</td>\n",
              "      <td>6.0</td>\n",
              "      <td>7</td>\n",
              "      <td>15</td>\n",
              "      <td>17</td>\n",
              "      <td>17</td>\n",
              "      <td>11.0</td>\n",
              "      <td>0xFFFF</td>\n",
              "      <td>5.0</td>\n",
              "      <td>-4</td>\n",
              "    </tr>\n",
              "    <tr>\n",
              "      <th>8</th>\n",
              "      <td>-11</td>\n",
              "      <td>-12.0</td>\n",
              "      <td>1</td>\n",
              "      <td>7.0</td>\n",
              "      <td>6</td>\n",
              "      <td>14</td>\n",
              "      <td>17</td>\n",
              "      <td>15</td>\n",
              "      <td>11.0</td>\n",
              "      <td>3</td>\n",
              "      <td>5.0</td>\n",
              "      <td>-3</td>\n",
              "    </tr>\n",
              "    <tr>\n",
              "      <th>9</th>\n",
              "      <td>-8</td>\n",
              "      <td>-9.0</td>\n",
              "      <td>2</td>\n",
              "      <td>7.0</td>\n",
              "      <td>5</td>\n",
              "      <td>Sun</td>\n",
              "      <td>15</td>\n",
              "      <td>14</td>\n",
              "      <td>12.0</td>\n",
              "      <td>4</td>\n",
              "      <td>-1.0</td>\n",
              "      <td>-8</td>\n",
              "    </tr>\n",
              "    <tr>\n",
              "      <th>10</th>\n",
              "      <td>-8</td>\n",
              "      <td>-6.0</td>\n",
              "      <td>1</td>\n",
              "      <td>8.0</td>\n",
              "      <td>5</td>\n",
              "      <td>14</td>\n",
              "      <td>15</td>\n",
              "      <td>14</td>\n",
              "      <td>10.0</td>\n",
              "      <td>2</td>\n",
              "      <td>-2.0</td>\n",
              "      <td>-9</td>\n",
              "    </tr>\n",
              "    <tr>\n",
              "      <th>11</th>\n",
              "      <td>-8</td>\n",
              "      <td>-5.0</td>\n",
              "      <td>3</td>\n",
              "      <td>8.0</td>\n",
              "      <td>6</td>\n",
              "      <td>13</td>\n",
              "      <td>16</td>\n",
              "      <td>15</td>\n",
              "      <td>10.0</td>\n",
              "      <td>1</td>\n",
              "      <td>-1.0</td>\n",
              "      <td>-5</td>\n",
              "    </tr>\n",
              "    <tr>\n",
              "      <th>12</th>\n",
              "      <td>-8</td>\n",
              "      <td>-4.0</td>\n",
              "      <td>5</td>\n",
              "      <td>9.0</td>\n",
              "      <td>8</td>\n",
              "      <td>11</td>\n",
              "      <td>16</td>\n",
              "      <td>15</td>\n",
              "      <td>9.0</td>\n",
              "      <td>3</td>\n",
              "      <td>-7.0</td>\n",
              "      <td>-6</td>\n",
              "    </tr>\n",
              "    <tr>\n",
              "      <th>13</th>\n",
              "      <td>-10</td>\n",
              "      <td>1.0</td>\n",
              "      <td>5</td>\n",
              "      <td>10.0</td>\n",
              "      <td>10</td>\n",
              "      <td>14</td>\n",
              "      <td>13</td>\n",
              "      <td>15</td>\n",
              "      <td>9.0</td>\n",
              "      <td>3</td>\n",
              "      <td>-8.0</td>\n",
              "      <td>-7</td>\n",
              "    </tr>\n",
              "    <tr>\n",
              "      <th>14</th>\n",
              "      <td>-10</td>\n",
              "      <td>3.0</td>\n",
              "      <td>7</td>\n",
              "      <td>8.0</td>\n",
              "      <td>12</td>\n",
              "      <td>15</td>\n",
              "      <td>14</td>\n",
              "      <td>48</td>\n",
              "      <td>10.0</td>\n",
              "      <td>3</td>\n",
              "      <td>-5.0</td>\n",
              "      <td>-11</td>\n",
              "    </tr>\n",
              "    <tr>\n",
              "      <th>15</th>\n",
              "      <td>-9</td>\n",
              "      <td>-9.0</td>\n",
              "      <td>0xFFFF</td>\n",
              "      <td>8.0</td>\n",
              "      <td>13</td>\n",
              "      <td>15</td>\n",
              "      <td>-6</td>\n",
              "      <td>18</td>\n",
              "      <td>11.0</td>\n",
              "      <td>1</td>\n",
              "      <td>-3.0</td>\n",
              "      <td>-6</td>\n",
              "    </tr>\n",
              "    <tr>\n",
              "      <th>16</th>\n",
              "      <td>-6</td>\n",
              "      <td>-6.0</td>\n",
              "      <td>2</td>\n",
              "      <td>9.0</td>\n",
              "      <td>14</td>\n",
              "      <td>15</td>\n",
              "      <td>15</td>\n",
              "      <td>19</td>\n",
              "      <td>10.0</td>\n",
              "      <td>4</td>\n",
              "      <td>-2.0</td>\n",
              "      <td>-8</td>\n",
              "    </tr>\n",
              "    <tr>\n",
              "      <th>17</th>\n",
              "      <td>-6</td>\n",
              "      <td>-6.0</td>\n",
              "      <td>-1</td>\n",
              "      <td>11.0</td>\n",
              "      <td>13</td>\n",
              "      <td>17</td>\n",
              "      <td>15</td>\n",
              "      <td>21</td>\n",
              "      <td>10.0</td>\n",
              "      <td>6</td>\n",
              "      <td>1.0</td>\n",
              "      <td>-11</td>\n",
              "    </tr>\n",
              "    <tr>\n",
              "      <th>18</th>\n",
              "      <td>-4</td>\n",
              "      <td>-4.0</td>\n",
              "      <td>-2</td>\n",
              "      <td>10.0</td>\n",
              "      <td>15</td>\n",
              "      <td>16</td>\n",
              "      <td>15</td>\n",
              "      <td>24</td>\n",
              "      <td>9.0</td>\n",
              "      <td>6</td>\n",
              "      <td>2.0</td>\n",
              "      <td>-8</td>\n",
              "    </tr>\n",
              "    <tr>\n",
              "      <th>19</th>\n",
              "      <td>-8</td>\n",
              "      <td>2.0</td>\n",
              "      <td>-1</td>\n",
              "      <td>11.0</td>\n",
              "      <td>15</td>\n",
              "      <td>19</td>\n",
              "      <td>17</td>\n",
              "      <td>21</td>\n",
              "      <td>11.0</td>\n",
              "      <td>6</td>\n",
              "      <td>1.0</td>\n",
              "      <td>-8</td>\n",
              "    </tr>\n",
              "    <tr>\n",
              "      <th>20</th>\n",
              "      <td>-9</td>\n",
              "      <td>3.0</td>\n",
              "      <td>0</td>\n",
              "      <td>12.0</td>\n",
              "      <td>15</td>\n",
              "      <td>20</td>\n",
              "      <td>18</td>\n",
              "      <td>21</td>\n",
              "      <td>12.0</td>\n",
              "      <td>7</td>\n",
              "      <td>0.0</td>\n",
              "      <td>-33</td>\n",
              "    </tr>\n",
              "    <tr>\n",
              "      <th>21</th>\n",
              "      <td>-14</td>\n",
              "      <td>1.0</td>\n",
              "      <td>1</td>\n",
              "      <td>9.0</td>\n",
              "      <td>18</td>\n",
              "      <td>19</td>\n",
              "      <td>19</td>\n",
              "      <td>26</td>\n",
              "      <td>12.0</td>\n",
              "      <td>7</td>\n",
              "      <td>0.0</td>\n",
              "      <td>-6</td>\n",
              "    </tr>\n",
              "    <tr>\n",
              "      <th>22</th>\n",
              "      <td>-15</td>\n",
              "      <td>-3.0</td>\n",
              "      <td>2</td>\n",
              "      <td>7.0</td>\n",
              "      <td>18</td>\n",
              "      <td>20</td>\n",
              "      <td>0xFFFF</td>\n",
              "      <td>17</td>\n",
              "      <td>10.0</td>\n",
              "      <td>6</td>\n",
              "      <td>1.0</td>\n",
              "      <td>-8</td>\n",
              "    </tr>\n",
              "    <tr>\n",
              "      <th>23</th>\n",
              "      <td>-17</td>\n",
              "      <td>-4.0</td>\n",
              "      <td>3</td>\n",
              "      <td>8.0</td>\n",
              "      <td>16</td>\n",
              "      <td>22</td>\n",
              "      <td>24</td>\n",
              "      <td>18</td>\n",
              "      <td>11.0</td>\n",
              "      <td>6</td>\n",
              "      <td>3.0</td>\n",
              "      <td>-9</td>\n",
              "    </tr>\n",
              "    <tr>\n",
              "      <th>24</th>\n",
              "      <td>-19</td>\n",
              "      <td>-6.0</td>\n",
              "      <td>4</td>\n",
              "      <td>8.0</td>\n",
              "      <td>15</td>\n",
              "      <td>22</td>\n",
              "      <td>23</td>\n",
              "      <td>17</td>\n",
              "      <td>10.0</td>\n",
              "      <td>6</td>\n",
              "      <td>5.0</td>\n",
              "      <td>-5</td>\n",
              "    </tr>\n",
              "    <tr>\n",
              "      <th>25</th>\n",
              "      <td>-23</td>\n",
              "      <td>-8.0</td>\n",
              "      <td>3</td>\n",
              "      <td>6.0</td>\n",
              "      <td>16</td>\n",
              "      <td>21</td>\n",
              "      <td>26</td>\n",
              "      <td>17</td>\n",
              "      <td>9.0</td>\n",
              "      <td>4</td>\n",
              "      <td>-2.0</td>\n",
              "      <td>-6</td>\n",
              "    </tr>\n",
              "    <tr>\n",
              "      <th>26</th>\n",
              "      <td>-8</td>\n",
              "      <td>-8.0</td>\n",
              "      <td>4</td>\n",
              "      <td>9.0</td>\n",
              "      <td>16</td>\n",
              "      <td>22</td>\n",
              "      <td>26</td>\n",
              "      <td>16</td>\n",
              "      <td>6.0</td>\n",
              "      <td>3</td>\n",
              "      <td>-3.0</td>\n",
              "      <td>-7</td>\n",
              "    </tr>\n",
              "    <tr>\n",
              "      <th>27</th>\n",
              "      <td>-9</td>\n",
              "      <td>-11.0</td>\n",
              "      <td>5</td>\n",
              "      <td>11.0</td>\n",
              "      <td>17</td>\n",
              "      <td>21</td>\n",
              "      <td>21</td>\n",
              "      <td>17</td>\n",
              "      <td>7.0</td>\n",
              "      <td>3</td>\n",
              "      <td>-6.0</td>\n",
              "      <td>-8</td>\n",
              "    </tr>\n",
              "    <tr>\n",
              "      <th>28</th>\n",
              "      <td>-5</td>\n",
              "      <td>NaN</td>\n",
              "      <td>5</td>\n",
              "      <td>14.0</td>\n",
              "      <td>16</td>\n",
              "      <td>21</td>\n",
              "      <td>22</td>\n",
              "      <td>17</td>\n",
              "      <td>7.0</td>\n",
              "      <td>4</td>\n",
              "      <td>-6.0</td>\n",
              "      <td>-6</td>\n",
              "    </tr>\n",
              "    <tr>\n",
              "      <th>29</th>\n",
              "      <td>-6</td>\n",
              "      <td>NaN</td>\n",
              "      <td>3</td>\n",
              "      <td>16.0</td>\n",
              "      <td>17</td>\n",
              "      <td>17</td>\n",
              "      <td>23</td>\n",
              "      <td>18</td>\n",
              "      <td>6.0</td>\n",
              "      <td>2</td>\n",
              "      <td>-4.0</td>\n",
              "      <td>-7</td>\n",
              "    </tr>\n",
              "    <tr>\n",
              "      <th>30</th>\n",
              "      <td>-7</td>\n",
              "      <td>NaN</td>\n",
              "      <td>3</td>\n",
              "      <td>NaN</td>\n",
              "      <td>17</td>\n",
              "      <td>NaN</td>\n",
              "      <td>21</td>\n",
              "      <td>17</td>\n",
              "      <td>NaN</td>\n",
              "      <td>1</td>\n",
              "      <td>NaN</td>\n",
              "      <td>-5</td>\n",
              "    </tr>\n",
              "  </tbody>\n",
              "</table>\n",
              "</div>"
            ],
            "text/plain": [
              "    janvier  février    mars  avril  mai juin juillet  aout  septembre  \\\n",
              "0        -5     -7.0      -7    2.0   12   17      20    20       16.0   \n",
              "1        -6     -6.0      -8    3.0   14   16      20    19       14.0   \n",
              "2        -5     -5.0      -5    4.0   15   17      17    19       15.0   \n",
              "3        -3     -6.0      -3    6.0   16   14      18    18       13.0   \n",
              "4        -6     -8.0      -2    4.0   13   15      17    17       12.0   \n",
              "5       -11     -9.0       1    5.0   12   17      17    18       10.0   \n",
              "6        -6      5.0       2    4.0    8   17      16    16       12.0   \n",
              "7        -8    -11.0       1    6.0    7   15      17    17       11.0   \n",
              "8       -11    -12.0       1    7.0    6   14      17    15       11.0   \n",
              "9        -8     -9.0       2    7.0    5  Sun      15    14       12.0   \n",
              "10       -8     -6.0       1    8.0    5   14      15    14       10.0   \n",
              "11       -8     -5.0       3    8.0    6   13      16    15       10.0   \n",
              "12       -8     -4.0       5    9.0    8   11      16    15        9.0   \n",
              "13      -10      1.0       5   10.0   10   14      13    15        9.0   \n",
              "14      -10      3.0       7    8.0   12   15      14    48       10.0   \n",
              "15       -9     -9.0  0xFFFF    8.0   13   15      -6    18       11.0   \n",
              "16       -6     -6.0       2    9.0   14   15      15    19       10.0   \n",
              "17       -6     -6.0      -1   11.0   13   17      15    21       10.0   \n",
              "18       -4     -4.0      -2   10.0   15   16      15    24        9.0   \n",
              "19       -8      2.0      -1   11.0   15   19      17    21       11.0   \n",
              "20       -9      3.0       0   12.0   15   20      18    21       12.0   \n",
              "21      -14      1.0       1    9.0   18   19      19    26       12.0   \n",
              "22      -15     -3.0       2    7.0   18   20  0xFFFF    17       10.0   \n",
              "23      -17     -4.0       3    8.0   16   22      24    18       11.0   \n",
              "24      -19     -6.0       4    8.0   15   22      23    17       10.0   \n",
              "25      -23     -8.0       3    6.0   16   21      26    17        9.0   \n",
              "26       -8     -8.0       4    9.0   16   22      26    16        6.0   \n",
              "27       -9    -11.0       5   11.0   17   21      21    17        7.0   \n",
              "28       -5      NaN       5   14.0   16   21      22    17        7.0   \n",
              "29       -6      NaN       3   16.0   17   17      23    18        6.0   \n",
              "30       -7      NaN       3    NaN   17  NaN      21    17        NaN   \n",
              "\n",
              "   octobre  novembre  décembre  \n",
              "0        6       0.0        -6  \n",
              "1        2       1.0        -4  \n",
              "2        3       2.0        -8  \n",
              "3        4       3.0        -9  \n",
              "4        3       4.0        -9  \n",
              "5        2       3.0        -9  \n",
              "6        4       4.0        -8  \n",
              "7   0xFFFF       5.0        -4  \n",
              "8        3       5.0        -3  \n",
              "9        4      -1.0        -8  \n",
              "10       2      -2.0        -9  \n",
              "11       1      -1.0        -5  \n",
              "12       3      -7.0        -6  \n",
              "13       3      -8.0        -7  \n",
              "14       3      -5.0       -11  \n",
              "15       1      -3.0        -6  \n",
              "16       4      -2.0        -8  \n",
              "17       6       1.0       -11  \n",
              "18       6       2.0        -8  \n",
              "19       6       1.0        -8  \n",
              "20       7       0.0       -33  \n",
              "21       7       0.0        -6  \n",
              "22       6       1.0        -8  \n",
              "23       6       3.0        -9  \n",
              "24       6       5.0        -5  \n",
              "25       4      -2.0        -6  \n",
              "26       3      -3.0        -7  \n",
              "27       3      -6.0        -8  \n",
              "28       4      -6.0        -6  \n",
              "29       2      -4.0        -7  \n",
              "30       1       NaN        -5  "
            ]
          },
          "metadata": {
            "tags": []
          },
          "execution_count": 47
        }
      ]
    },
    {
      "cell_type": "markdown",
      "metadata": {
        "id": "IBC4LkZuDlc6"
      },
      "source": [
        "# suppression de valeurs absurdes\r\n"
      ]
    },
    {
      "cell_type": "code",
      "metadata": {
        "colab": {
          "base_uri": "https://localhost:8080/",
          "height": 1000
        },
        "id": "HJP_MWWaizgK",
        "outputId": "37d5afca-ebbe-43a0-e304-b8b58a38739d"
      },
      "source": [
        "wrongDataFrame = wrongDataFrame.replace(48, np.NaN, regex=True)\r\n",
        "wrongDataFrame = wrongDataFrame.replace(-33, np.NaN, regex=True)\r\n",
        "wrongDataFrame = wrongDataFrame.replace(-6, np.NaN, regex=True)\r\n",
        "\r\n",
        "wrongDataFrame = wrongDataFrame.apply(pd.to_numeric, args=('coerce',))\r\n",
        "\r\n",
        "wrongDataFrame[['janvier', 'février', 'mars', 'avril', 'mai', 'juin', 'juillet', 'aout', 'septembre', 'octobre', 'novembre', 'décembre']] = wrongDataFrame[['janvier', 'février', 'mars', 'avril', 'mai', 'juin', 'juillet', 'aout', 'septembre', 'octobre', 'novembre', 'décembre']].interpolate(method='linear', limit_direction = 'forward', axis=0)\r\n",
        "\r\n",
        "wrongDataFrame"
      ],
      "execution_count": 68,
      "outputs": [
        {
          "output_type": "execute_result",
          "data": {
            "text/html": [
              "<div>\n",
              "<style scoped>\n",
              "    .dataframe tbody tr th:only-of-type {\n",
              "        vertical-align: middle;\n",
              "    }\n",
              "\n",
              "    .dataframe tbody tr th {\n",
              "        vertical-align: top;\n",
              "    }\n",
              "\n",
              "    .dataframe thead th {\n",
              "        text-align: right;\n",
              "    }\n",
              "</style>\n",
              "<table border=\"1\" class=\"dataframe\">\n",
              "  <thead>\n",
              "    <tr style=\"text-align: right;\">\n",
              "      <th></th>\n",
              "      <th>janvier</th>\n",
              "      <th>février</th>\n",
              "      <th>mars</th>\n",
              "      <th>avril</th>\n",
              "      <th>mai</th>\n",
              "      <th>juin</th>\n",
              "      <th>juillet</th>\n",
              "      <th>aout</th>\n",
              "      <th>septembre</th>\n",
              "      <th>octobre</th>\n",
              "      <th>novembre</th>\n",
              "      <th>décembre</th>\n",
              "    </tr>\n",
              "  </thead>\n",
              "  <tbody>\n",
              "    <tr>\n",
              "      <th>0</th>\n",
              "      <td>-5.000000</td>\n",
              "      <td>-7.000000</td>\n",
              "      <td>-7.0</td>\n",
              "      <td>2.0</td>\n",
              "      <td>12.0</td>\n",
              "      <td>17.0</td>\n",
              "      <td>20.0</td>\n",
              "      <td>20.0</td>\n",
              "      <td>16.0</td>\n",
              "      <td>6.0</td>\n",
              "      <td>0.000000</td>\n",
              "      <td>NaN</td>\n",
              "    </tr>\n",
              "    <tr>\n",
              "      <th>1</th>\n",
              "      <td>-5.000000</td>\n",
              "      <td>-6.000000</td>\n",
              "      <td>-8.0</td>\n",
              "      <td>3.0</td>\n",
              "      <td>14.0</td>\n",
              "      <td>16.0</td>\n",
              "      <td>20.0</td>\n",
              "      <td>19.0</td>\n",
              "      <td>14.0</td>\n",
              "      <td>2.0</td>\n",
              "      <td>1.000000</td>\n",
              "      <td>-4.0</td>\n",
              "    </tr>\n",
              "    <tr>\n",
              "      <th>2</th>\n",
              "      <td>-5.000000</td>\n",
              "      <td>-5.000000</td>\n",
              "      <td>-5.0</td>\n",
              "      <td>4.0</td>\n",
              "      <td>15.0</td>\n",
              "      <td>17.0</td>\n",
              "      <td>17.0</td>\n",
              "      <td>19.0</td>\n",
              "      <td>15.0</td>\n",
              "      <td>3.0</td>\n",
              "      <td>2.000000</td>\n",
              "      <td>-8.0</td>\n",
              "    </tr>\n",
              "    <tr>\n",
              "      <th>3</th>\n",
              "      <td>-3.000000</td>\n",
              "      <td>-6.500000</td>\n",
              "      <td>-3.0</td>\n",
              "      <td>6.0</td>\n",
              "      <td>16.0</td>\n",
              "      <td>14.0</td>\n",
              "      <td>18.0</td>\n",
              "      <td>18.0</td>\n",
              "      <td>13.0</td>\n",
              "      <td>4.0</td>\n",
              "      <td>3.000000</td>\n",
              "      <td>-9.0</td>\n",
              "    </tr>\n",
              "    <tr>\n",
              "      <th>4</th>\n",
              "      <td>-7.000000</td>\n",
              "      <td>-8.000000</td>\n",
              "      <td>-2.0</td>\n",
              "      <td>4.0</td>\n",
              "      <td>13.0</td>\n",
              "      <td>15.0</td>\n",
              "      <td>17.0</td>\n",
              "      <td>17.0</td>\n",
              "      <td>12.0</td>\n",
              "      <td>3.0</td>\n",
              "      <td>4.000000</td>\n",
              "      <td>-9.0</td>\n",
              "    </tr>\n",
              "    <tr>\n",
              "      <th>5</th>\n",
              "      <td>-11.000000</td>\n",
              "      <td>-9.000000</td>\n",
              "      <td>1.0</td>\n",
              "      <td>5.0</td>\n",
              "      <td>12.0</td>\n",
              "      <td>17.0</td>\n",
              "      <td>17.0</td>\n",
              "      <td>18.0</td>\n",
              "      <td>10.0</td>\n",
              "      <td>2.0</td>\n",
              "      <td>3.000000</td>\n",
              "      <td>-9.0</td>\n",
              "    </tr>\n",
              "    <tr>\n",
              "      <th>6</th>\n",
              "      <td>-9.500000</td>\n",
              "      <td>5.000000</td>\n",
              "      <td>2.0</td>\n",
              "      <td>4.0</td>\n",
              "      <td>8.0</td>\n",
              "      <td>17.0</td>\n",
              "      <td>16.0</td>\n",
              "      <td>16.0</td>\n",
              "      <td>12.0</td>\n",
              "      <td>4.0</td>\n",
              "      <td>4.000000</td>\n",
              "      <td>-8.0</td>\n",
              "    </tr>\n",
              "    <tr>\n",
              "      <th>7</th>\n",
              "      <td>-8.000000</td>\n",
              "      <td>-11.000000</td>\n",
              "      <td>1.0</td>\n",
              "      <td>6.0</td>\n",
              "      <td>7.0</td>\n",
              "      <td>15.0</td>\n",
              "      <td>17.0</td>\n",
              "      <td>17.0</td>\n",
              "      <td>11.0</td>\n",
              "      <td>3.5</td>\n",
              "      <td>5.000000</td>\n",
              "      <td>-4.0</td>\n",
              "    </tr>\n",
              "    <tr>\n",
              "      <th>8</th>\n",
              "      <td>-11.000000</td>\n",
              "      <td>-12.000000</td>\n",
              "      <td>1.0</td>\n",
              "      <td>7.0</td>\n",
              "      <td>6.0</td>\n",
              "      <td>14.0</td>\n",
              "      <td>17.0</td>\n",
              "      <td>15.0</td>\n",
              "      <td>11.0</td>\n",
              "      <td>3.0</td>\n",
              "      <td>5.000000</td>\n",
              "      <td>-3.0</td>\n",
              "    </tr>\n",
              "    <tr>\n",
              "      <th>9</th>\n",
              "      <td>-8.000000</td>\n",
              "      <td>-9.000000</td>\n",
              "      <td>2.0</td>\n",
              "      <td>7.0</td>\n",
              "      <td>5.0</td>\n",
              "      <td>14.0</td>\n",
              "      <td>15.0</td>\n",
              "      <td>14.0</td>\n",
              "      <td>12.0</td>\n",
              "      <td>4.0</td>\n",
              "      <td>-1.000000</td>\n",
              "      <td>-8.0</td>\n",
              "    </tr>\n",
              "    <tr>\n",
              "      <th>10</th>\n",
              "      <td>-8.000000</td>\n",
              "      <td>-7.000000</td>\n",
              "      <td>1.0</td>\n",
              "      <td>8.0</td>\n",
              "      <td>5.0</td>\n",
              "      <td>14.0</td>\n",
              "      <td>15.0</td>\n",
              "      <td>14.0</td>\n",
              "      <td>10.0</td>\n",
              "      <td>2.0</td>\n",
              "      <td>-2.000000</td>\n",
              "      <td>-9.0</td>\n",
              "    </tr>\n",
              "    <tr>\n",
              "      <th>11</th>\n",
              "      <td>-8.000000</td>\n",
              "      <td>-5.000000</td>\n",
              "      <td>3.0</td>\n",
              "      <td>8.0</td>\n",
              "      <td>6.0</td>\n",
              "      <td>13.0</td>\n",
              "      <td>16.0</td>\n",
              "      <td>15.0</td>\n",
              "      <td>10.0</td>\n",
              "      <td>1.0</td>\n",
              "      <td>-1.000000</td>\n",
              "      <td>-5.0</td>\n",
              "    </tr>\n",
              "    <tr>\n",
              "      <th>12</th>\n",
              "      <td>-8.000000</td>\n",
              "      <td>-4.000000</td>\n",
              "      <td>5.0</td>\n",
              "      <td>9.0</td>\n",
              "      <td>8.0</td>\n",
              "      <td>11.0</td>\n",
              "      <td>16.0</td>\n",
              "      <td>15.0</td>\n",
              "      <td>9.0</td>\n",
              "      <td>3.0</td>\n",
              "      <td>-7.000000</td>\n",
              "      <td>-6.0</td>\n",
              "    </tr>\n",
              "    <tr>\n",
              "      <th>13</th>\n",
              "      <td>-10.000000</td>\n",
              "      <td>1.000000</td>\n",
              "      <td>5.0</td>\n",
              "      <td>10.0</td>\n",
              "      <td>10.0</td>\n",
              "      <td>14.0</td>\n",
              "      <td>13.0</td>\n",
              "      <td>15.0</td>\n",
              "      <td>9.0</td>\n",
              "      <td>3.0</td>\n",
              "      <td>-8.000000</td>\n",
              "      <td>-7.0</td>\n",
              "    </tr>\n",
              "    <tr>\n",
              "      <th>14</th>\n",
              "      <td>-10.000000</td>\n",
              "      <td>3.000000</td>\n",
              "      <td>7.0</td>\n",
              "      <td>8.0</td>\n",
              "      <td>12.0</td>\n",
              "      <td>15.0</td>\n",
              "      <td>14.0</td>\n",
              "      <td>16.5</td>\n",
              "      <td>10.0</td>\n",
              "      <td>3.0</td>\n",
              "      <td>-5.000000</td>\n",
              "      <td>-11.0</td>\n",
              "    </tr>\n",
              "    <tr>\n",
              "      <th>15</th>\n",
              "      <td>-9.000000</td>\n",
              "      <td>-9.000000</td>\n",
              "      <td>4.5</td>\n",
              "      <td>8.0</td>\n",
              "      <td>13.0</td>\n",
              "      <td>15.0</td>\n",
              "      <td>14.5</td>\n",
              "      <td>18.0</td>\n",
              "      <td>11.0</td>\n",
              "      <td>1.0</td>\n",
              "      <td>-3.000000</td>\n",
              "      <td>-9.5</td>\n",
              "    </tr>\n",
              "    <tr>\n",
              "      <th>16</th>\n",
              "      <td>-7.333333</td>\n",
              "      <td>-7.333333</td>\n",
              "      <td>2.0</td>\n",
              "      <td>9.0</td>\n",
              "      <td>14.0</td>\n",
              "      <td>15.0</td>\n",
              "      <td>15.0</td>\n",
              "      <td>19.0</td>\n",
              "      <td>10.0</td>\n",
              "      <td>4.0</td>\n",
              "      <td>-2.000000</td>\n",
              "      <td>-8.0</td>\n",
              "    </tr>\n",
              "    <tr>\n",
              "      <th>17</th>\n",
              "      <td>-5.666667</td>\n",
              "      <td>-5.666667</td>\n",
              "      <td>-1.0</td>\n",
              "      <td>11.0</td>\n",
              "      <td>13.0</td>\n",
              "      <td>17.0</td>\n",
              "      <td>15.0</td>\n",
              "      <td>21.0</td>\n",
              "      <td>10.0</td>\n",
              "      <td>6.0</td>\n",
              "      <td>1.000000</td>\n",
              "      <td>-11.0</td>\n",
              "    </tr>\n",
              "    <tr>\n",
              "      <th>18</th>\n",
              "      <td>-4.000000</td>\n",
              "      <td>-4.000000</td>\n",
              "      <td>-2.0</td>\n",
              "      <td>10.0</td>\n",
              "      <td>15.0</td>\n",
              "      <td>16.0</td>\n",
              "      <td>15.0</td>\n",
              "      <td>24.0</td>\n",
              "      <td>9.0</td>\n",
              "      <td>6.0</td>\n",
              "      <td>2.000000</td>\n",
              "      <td>-8.0</td>\n",
              "    </tr>\n",
              "    <tr>\n",
              "      <th>19</th>\n",
              "      <td>-8.000000</td>\n",
              "      <td>2.000000</td>\n",
              "      <td>-1.0</td>\n",
              "      <td>11.0</td>\n",
              "      <td>15.0</td>\n",
              "      <td>19.0</td>\n",
              "      <td>17.0</td>\n",
              "      <td>21.0</td>\n",
              "      <td>11.0</td>\n",
              "      <td>6.0</td>\n",
              "      <td>1.000000</td>\n",
              "      <td>-8.0</td>\n",
              "    </tr>\n",
              "    <tr>\n",
              "      <th>20</th>\n",
              "      <td>-9.000000</td>\n",
              "      <td>3.000000</td>\n",
              "      <td>0.0</td>\n",
              "      <td>12.0</td>\n",
              "      <td>15.0</td>\n",
              "      <td>20.0</td>\n",
              "      <td>18.0</td>\n",
              "      <td>21.0</td>\n",
              "      <td>12.0</td>\n",
              "      <td>7.0</td>\n",
              "      <td>0.000000</td>\n",
              "      <td>-8.0</td>\n",
              "    </tr>\n",
              "    <tr>\n",
              "      <th>21</th>\n",
              "      <td>-14.000000</td>\n",
              "      <td>1.000000</td>\n",
              "      <td>1.0</td>\n",
              "      <td>9.0</td>\n",
              "      <td>18.0</td>\n",
              "      <td>19.0</td>\n",
              "      <td>19.0</td>\n",
              "      <td>26.0</td>\n",
              "      <td>12.0</td>\n",
              "      <td>7.0</td>\n",
              "      <td>0.000000</td>\n",
              "      <td>-8.0</td>\n",
              "    </tr>\n",
              "    <tr>\n",
              "      <th>22</th>\n",
              "      <td>-15.000000</td>\n",
              "      <td>-3.000000</td>\n",
              "      <td>2.0</td>\n",
              "      <td>7.0</td>\n",
              "      <td>18.0</td>\n",
              "      <td>20.0</td>\n",
              "      <td>21.5</td>\n",
              "      <td>17.0</td>\n",
              "      <td>10.0</td>\n",
              "      <td>6.0</td>\n",
              "      <td>1.000000</td>\n",
              "      <td>-8.0</td>\n",
              "    </tr>\n",
              "    <tr>\n",
              "      <th>23</th>\n",
              "      <td>-17.000000</td>\n",
              "      <td>-4.000000</td>\n",
              "      <td>3.0</td>\n",
              "      <td>8.0</td>\n",
              "      <td>16.0</td>\n",
              "      <td>22.0</td>\n",
              "      <td>24.0</td>\n",
              "      <td>18.0</td>\n",
              "      <td>11.0</td>\n",
              "      <td>6.0</td>\n",
              "      <td>3.000000</td>\n",
              "      <td>-9.0</td>\n",
              "    </tr>\n",
              "    <tr>\n",
              "      <th>24</th>\n",
              "      <td>-19.000000</td>\n",
              "      <td>-6.000000</td>\n",
              "      <td>4.0</td>\n",
              "      <td>8.0</td>\n",
              "      <td>15.0</td>\n",
              "      <td>22.0</td>\n",
              "      <td>23.0</td>\n",
              "      <td>17.0</td>\n",
              "      <td>10.0</td>\n",
              "      <td>6.0</td>\n",
              "      <td>5.000000</td>\n",
              "      <td>-5.0</td>\n",
              "    </tr>\n",
              "    <tr>\n",
              "      <th>25</th>\n",
              "      <td>-23.000000</td>\n",
              "      <td>-8.000000</td>\n",
              "      <td>3.0</td>\n",
              "      <td>6.0</td>\n",
              "      <td>16.0</td>\n",
              "      <td>21.0</td>\n",
              "      <td>26.0</td>\n",
              "      <td>17.0</td>\n",
              "      <td>9.0</td>\n",
              "      <td>4.0</td>\n",
              "      <td>-2.000000</td>\n",
              "      <td>-6.0</td>\n",
              "    </tr>\n",
              "    <tr>\n",
              "      <th>26</th>\n",
              "      <td>-8.000000</td>\n",
              "      <td>-8.000000</td>\n",
              "      <td>4.0</td>\n",
              "      <td>9.0</td>\n",
              "      <td>16.0</td>\n",
              "      <td>22.0</td>\n",
              "      <td>26.0</td>\n",
              "      <td>16.0</td>\n",
              "      <td>6.0</td>\n",
              "      <td>3.0</td>\n",
              "      <td>-3.000000</td>\n",
              "      <td>-7.0</td>\n",
              "    </tr>\n",
              "    <tr>\n",
              "      <th>27</th>\n",
              "      <td>-9.000000</td>\n",
              "      <td>-11.000000</td>\n",
              "      <td>5.0</td>\n",
              "      <td>11.0</td>\n",
              "      <td>17.0</td>\n",
              "      <td>21.0</td>\n",
              "      <td>21.0</td>\n",
              "      <td>17.0</td>\n",
              "      <td>7.0</td>\n",
              "      <td>3.0</td>\n",
              "      <td>-3.333333</td>\n",
              "      <td>-8.0</td>\n",
              "    </tr>\n",
              "    <tr>\n",
              "      <th>28</th>\n",
              "      <td>-5.000000</td>\n",
              "      <td>-11.000000</td>\n",
              "      <td>5.0</td>\n",
              "      <td>14.0</td>\n",
              "      <td>16.0</td>\n",
              "      <td>21.0</td>\n",
              "      <td>22.0</td>\n",
              "      <td>17.0</td>\n",
              "      <td>7.0</td>\n",
              "      <td>4.0</td>\n",
              "      <td>-3.666667</td>\n",
              "      <td>-7.5</td>\n",
              "    </tr>\n",
              "    <tr>\n",
              "      <th>29</th>\n",
              "      <td>-6.000000</td>\n",
              "      <td>-11.000000</td>\n",
              "      <td>3.0</td>\n",
              "      <td>16.0</td>\n",
              "      <td>17.0</td>\n",
              "      <td>17.0</td>\n",
              "      <td>23.0</td>\n",
              "      <td>18.0</td>\n",
              "      <td>6.0</td>\n",
              "      <td>2.0</td>\n",
              "      <td>-4.000000</td>\n",
              "      <td>-7.0</td>\n",
              "    </tr>\n",
              "    <tr>\n",
              "      <th>30</th>\n",
              "      <td>-7.000000</td>\n",
              "      <td>-11.000000</td>\n",
              "      <td>3.0</td>\n",
              "      <td>16.0</td>\n",
              "      <td>17.0</td>\n",
              "      <td>17.0</td>\n",
              "      <td>21.0</td>\n",
              "      <td>17.0</td>\n",
              "      <td>6.0</td>\n",
              "      <td>1.0</td>\n",
              "      <td>-4.000000</td>\n",
              "      <td>-5.0</td>\n",
              "    </tr>\n",
              "  </tbody>\n",
              "</table>\n",
              "</div>"
            ],
            "text/plain": [
              "      janvier    février  mars  avril   mai  juin  juillet  aout  septembre  \\\n",
              "0   -5.000000  -7.000000  -7.0    2.0  12.0  17.0     20.0  20.0       16.0   \n",
              "1   -5.000000  -6.000000  -8.0    3.0  14.0  16.0     20.0  19.0       14.0   \n",
              "2   -5.000000  -5.000000  -5.0    4.0  15.0  17.0     17.0  19.0       15.0   \n",
              "3   -3.000000  -6.500000  -3.0    6.0  16.0  14.0     18.0  18.0       13.0   \n",
              "4   -7.000000  -8.000000  -2.0    4.0  13.0  15.0     17.0  17.0       12.0   \n",
              "5  -11.000000  -9.000000   1.0    5.0  12.0  17.0     17.0  18.0       10.0   \n",
              "6   -9.500000   5.000000   2.0    4.0   8.0  17.0     16.0  16.0       12.0   \n",
              "7   -8.000000 -11.000000   1.0    6.0   7.0  15.0     17.0  17.0       11.0   \n",
              "8  -11.000000 -12.000000   1.0    7.0   6.0  14.0     17.0  15.0       11.0   \n",
              "9   -8.000000  -9.000000   2.0    7.0   5.0  14.0     15.0  14.0       12.0   \n",
              "10  -8.000000  -7.000000   1.0    8.0   5.0  14.0     15.0  14.0       10.0   \n",
              "11  -8.000000  -5.000000   3.0    8.0   6.0  13.0     16.0  15.0       10.0   \n",
              "12  -8.000000  -4.000000   5.0    9.0   8.0  11.0     16.0  15.0        9.0   \n",
              "13 -10.000000   1.000000   5.0   10.0  10.0  14.0     13.0  15.0        9.0   \n",
              "14 -10.000000   3.000000   7.0    8.0  12.0  15.0     14.0  16.5       10.0   \n",
              "15  -9.000000  -9.000000   4.5    8.0  13.0  15.0     14.5  18.0       11.0   \n",
              "16  -7.333333  -7.333333   2.0    9.0  14.0  15.0     15.0  19.0       10.0   \n",
              "17  -5.666667  -5.666667  -1.0   11.0  13.0  17.0     15.0  21.0       10.0   \n",
              "18  -4.000000  -4.000000  -2.0   10.0  15.0  16.0     15.0  24.0        9.0   \n",
              "19  -8.000000   2.000000  -1.0   11.0  15.0  19.0     17.0  21.0       11.0   \n",
              "20  -9.000000   3.000000   0.0   12.0  15.0  20.0     18.0  21.0       12.0   \n",
              "21 -14.000000   1.000000   1.0    9.0  18.0  19.0     19.0  26.0       12.0   \n",
              "22 -15.000000  -3.000000   2.0    7.0  18.0  20.0     21.5  17.0       10.0   \n",
              "23 -17.000000  -4.000000   3.0    8.0  16.0  22.0     24.0  18.0       11.0   \n",
              "24 -19.000000  -6.000000   4.0    8.0  15.0  22.0     23.0  17.0       10.0   \n",
              "25 -23.000000  -8.000000   3.0    6.0  16.0  21.0     26.0  17.0        9.0   \n",
              "26  -8.000000  -8.000000   4.0    9.0  16.0  22.0     26.0  16.0        6.0   \n",
              "27  -9.000000 -11.000000   5.0   11.0  17.0  21.0     21.0  17.0        7.0   \n",
              "28  -5.000000 -11.000000   5.0   14.0  16.0  21.0     22.0  17.0        7.0   \n",
              "29  -6.000000 -11.000000   3.0   16.0  17.0  17.0     23.0  18.0        6.0   \n",
              "30  -7.000000 -11.000000   3.0   16.0  17.0  17.0     21.0  17.0        6.0   \n",
              "\n",
              "    octobre  novembre  décembre  \n",
              "0       6.0  0.000000       NaN  \n",
              "1       2.0  1.000000      -4.0  \n",
              "2       3.0  2.000000      -8.0  \n",
              "3       4.0  3.000000      -9.0  \n",
              "4       3.0  4.000000      -9.0  \n",
              "5       2.0  3.000000      -9.0  \n",
              "6       4.0  4.000000      -8.0  \n",
              "7       3.5  5.000000      -4.0  \n",
              "8       3.0  5.000000      -3.0  \n",
              "9       4.0 -1.000000      -8.0  \n",
              "10      2.0 -2.000000      -9.0  \n",
              "11      1.0 -1.000000      -5.0  \n",
              "12      3.0 -7.000000      -6.0  \n",
              "13      3.0 -8.000000      -7.0  \n",
              "14      3.0 -5.000000     -11.0  \n",
              "15      1.0 -3.000000      -9.5  \n",
              "16      4.0 -2.000000      -8.0  \n",
              "17      6.0  1.000000     -11.0  \n",
              "18      6.0  2.000000      -8.0  \n",
              "19      6.0  1.000000      -8.0  \n",
              "20      7.0  0.000000      -8.0  \n",
              "21      7.0  0.000000      -8.0  \n",
              "22      6.0  1.000000      -8.0  \n",
              "23      6.0  3.000000      -9.0  \n",
              "24      6.0  5.000000      -5.0  \n",
              "25      4.0 -2.000000      -6.0  \n",
              "26      3.0 -3.000000      -7.0  \n",
              "27      3.0 -3.333333      -8.0  \n",
              "28      4.0 -3.666667      -7.5  \n",
              "29      2.0 -4.000000      -7.0  \n",
              "30      1.0 -4.000000      -5.0  "
            ]
          },
          "metadata": {
            "tags": []
          },
          "execution_count": 68
        }
      ]
    },
    {
      "cell_type": "markdown",
      "metadata": {
        "id": "7az7jrimDnA2"
      },
      "source": [
        "# Moyenne des températures par mois\r\n"
      ]
    },
    {
      "cell_type": "code",
      "metadata": {
        "colab": {
          "base_uri": "https://localhost:8080/",
          "height": 503
        },
        "id": "q-t7G8zDpJ_0",
        "outputId": "055b20d5-e333-47c8-d274-8067a2162003"
      },
      "source": [
        "print(\"Moyenne des températures par mois sur toute l'année 2018.\")\r\n",
        "wrongDataFrame.mean().plot(kind='line', use_index=True)\r\n",
        "wrongDataFrame.mean()"
      ],
      "execution_count": 60,
      "outputs": [
        {
          "output_type": "stream",
          "text": [
            "Moyenne des températures par mois sur toute l'année 2018.\n"
          ],
          "name": "stdout"
        },
        {
          "output_type": "execute_result",
          "data": {
            "text/plain": [
              "janvier      -9.112903\n",
              "février      -5.596774\n",
              "mars          1.241935\n",
              "avril         8.258065\n",
              "mai          12.903226\n",
              "juin         17.000000\n",
              "juillet      18.354839\n",
              "aout         17.822581\n",
              "septembre    10.354839\n",
              "octobre       3.822581\n",
              "novembre     -0.290323\n",
              "décembre     -7.433333\n",
              "dtype: float64"
            ]
          },
          "metadata": {
            "tags": []
          },
          "execution_count": 60
        },
        {
          "output_type": "display_data",
          "data": {
            "image/png": "[encoded data removed]",
            "text/plain": [
              "<Figure size 432x288 with 1 Axes>"
            ]
          },
          "metadata": {
            "tags": [],
            "needs_background": "light"
          }
        }
      ]
    },
    {
      "cell_type": "markdown",
      "metadata": {
        "id": "bbRx-PQpDoP0"
      },
      "source": [
        "# Température maximum par mois sur toute l'année 2018.\r\n"
      ]
    },
    {
      "cell_type": "code",
      "metadata": {
        "colab": {
          "base_uri": "https://localhost:8080/",
          "height": 503
        },
        "id": "-4bpfzmApPDL",
        "outputId": "e67c698f-c045-4da9-c6ee-8ff99ea1bdf7"
      },
      "source": [
        "print(\"Température maximum par mois sur toute l'année 2018.\")\r\n",
        "wrongDataFrame.max().plot(kind='line', use_index=True)\r\n",
        "wrongDataFrame.max()"
      ],
      "execution_count": 61,
      "outputs": [
        {
          "output_type": "stream",
          "text": [
            "Température maximum par mois sur toute l'année 2018.\n"
          ],
          "name": "stdout"
        },
        {
          "output_type": "execute_result",
          "data": {
            "text/plain": [
              "janvier      -3.0\n",
              "février       5.0\n",
              "mars          7.0\n",
              "avril        16.0\n",
              "mai          18.0\n",
              "juin         22.0\n",
              "juillet      26.0\n",
              "aout         26.0\n",
              "septembre    16.0\n",
              "octobre       7.0\n",
              "novembre      5.0\n",
              "décembre     -3.0\n",
              "dtype: float64"
            ]
          },
          "metadata": {
            "tags": []
          },
          "execution_count": 61
        },
        {
          "output_type": "display_data",
          "data": {
            "image/png": "[encoded data removed]",
            "text/plain": [
              "<Figure size 432x288 with 1 Axes>"
            ]
          },
          "metadata": {
            "tags": [],
            "needs_background": "light"
          }
        }
      ]
    },
    {
      "cell_type": "markdown",
      "metadata": {
        "id": "IdRzBVB-DppB"
      },
      "source": [
        "# Température minimum par mois sur toute l'année 2018.\r\n"
      ]
    },
    {
      "cell_type": "code",
      "metadata": {
        "colab": {
          "base_uri": "https://localhost:8080/",
          "height": 503
        },
        "id": "is1LoapGpRzZ",
        "outputId": "99942856-cee2-4ccc-dd84-d4aca7fcc5e9"
      },
      "source": [
        "print(\"Température minimum par mois sur toute l'année 2018.\")\r\n",
        "wrongDataFrame.min().plot(kind='line', use_index=True)\r\n",
        "wrongDataFrame.min()"
      ],
      "execution_count": 62,
      "outputs": [
        {
          "output_type": "stream",
          "text": [
            "Température minimum par mois sur toute l'année 2018.\n"
          ],
          "name": "stdout"
        },
        {
          "output_type": "execute_result",
          "data": {
            "text/plain": [
              "janvier     -23.0\n",
              "février     -12.0\n",
              "mars         -8.0\n",
              "avril         2.0\n",
              "mai           5.0\n",
              "juin         11.0\n",
              "juillet      13.0\n",
              "aout         14.0\n",
              "septembre     6.0\n",
              "octobre       1.0\n",
              "novembre     -8.0\n",
              "décembre    -11.0\n",
              "dtype: float64"
            ]
          },
          "metadata": {
            "tags": []
          },
          "execution_count": 62
        },
        {
          "output_type": "display_data",
          "data": {
            "image/png": "[encoded data removed]",
            "text/plain": [
              "<Figure size 432x288 with 1 Axes>"
            ]
          },
          "metadata": {
            "tags": [],
            "needs_background": "light"
          }
        }
      ]
    },
    {
      "cell_type": "markdown",
      "metadata": {
        "id": "O0acS4DKDqth"
      },
      "source": [
        "# écart type des températures par mois sur toute l'année 2018.\r\n"
      ]
    },
    {
      "cell_type": "code",
      "metadata": {
        "colab": {
          "base_uri": "https://localhost:8080/",
          "height": 486
        },
        "id": "i0VWj0_cpTuj",
        "outputId": "7e5b1dd8-72c4-468d-94e8-6a1f0ed6c758"
      },
      "source": [
        "wrongDataFrame.std().plot(kind='line', use_index=True)\r\n",
        "wrongDataFrame.std()"
      ],
      "execution_count": 63,
      "outputs": [
        {
          "output_type": "execute_result",
          "data": {
            "text/plain": [
              "janvier      4.448759\n",
              "février      4.715572\n",
              "mars         3.542294\n",
              "avril        3.415335\n",
              "mai          4.036127\n",
              "juin         2.988868\n",
              "juillet      3.566496\n",
              "aout         2.703542\n",
              "septembre    2.429655\n",
              "octobre      1.791407\n",
              "novembre     3.511612\n",
              "décembre     1.955246\n",
              "dtype: float64"
            ]
          },
          "metadata": {
            "tags": []
          },
          "execution_count": 63
        },
        {
          "output_type": "display_data",
          "data": {
            "image/png": "[encoded data removed]",
            "text/plain": [
              "<Figure size 432x288 with 1 Axes>"
            ]
          },
          "metadata": {
            "tags": [],
            "needs_background": "light"
          }
        }
      ]
    },
    {
      "cell_type": "markdown",
      "metadata": {
        "id": "TPbCTnCvDsDu"
      },
      "source": [
        "# toutes les courbes sur un même tableau\r\n"
      ]
    },
    {
      "cell_type": "code",
      "metadata": {
        "colab": {
          "base_uri": "https://localhost:8080/",
          "height": 282
        },
        "id": "OOTP3NevpWQ5",
        "outputId": "33acfcaa-723e-4367-dc3d-e3d5fd3d3f58"
      },
      "source": [
        "wrongDataFrame.plot(kind='line')"
      ],
      "execution_count": 64,
      "outputs": [
        {
          "output_type": "execute_result",
          "data": {
            "text/plain": [
              "<matplotlib.axes._subplots.AxesSubplot at 0x7fc47c335a58>"
            ]
          },
          "metadata": {
            "tags": []
          },
          "execution_count": 64
        },
        {
          "output_type": "display_data",
          "data": {
            "image/png": "[encoded data removed]",
            "text/plain": [
              "<Figure size 432x288 with 1 Axes>"
            ]
          },
          "metadata": {
            "tags": [],
            "needs_background": "light"
          }
        }
      ]
    },
    {
      "cell_type": "code",
      "metadata": {
        "colab": {
          "base_uri": "https://localhost:8080/",
          "height": 419
        },
        "id": "7p3GdNf4rF31",
        "outputId": "49837762-b045-4555-e147-a3328a141233"
      },
      "source": [
        "annualValuesWrong = []\r\n",
        "wrongDataFrame = wrongDataFrame.astype(float)\r\n",
        "\r\n",
        "\r\n",
        "for name, values in wrongDataFrame.iteritems():\r\n",
        "    for dayValue in values:\r\n",
        "      if(np.logical_not(np.isnan(dayValue))):\r\n",
        "            annualValuesWrong.append(dayValue)\r\n",
        "\r\n",
        "dwrong = {'degreesPerDay': annualValuesWrong}\r\n",
        "dataframePerDayWrong = pd.DataFrame(data=dwrong)\r\n",
        "dataframePerDayWrong"
      ],
      "execution_count": 65,
      "outputs": [
        {
          "output_type": "execute_result",
          "data": {
            "text/html": [
              "<div>\n",
              "<style scoped>\n",
              "    .dataframe tbody tr th:only-of-type {\n",
              "        vertical-align: middle;\n",
              "    }\n",
              "\n",
              "    .dataframe tbody tr th {\n",
              "        vertical-align: top;\n",
              "    }\n",
              "\n",
              "    .dataframe thead th {\n",
              "        text-align: right;\n",
              "    }\n",
              "</style>\n",
              "<table border=\"1\" class=\"dataframe\">\n",
              "  <thead>\n",
              "    <tr style=\"text-align: right;\">\n",
              "      <th></th>\n",
              "      <th>degreesPerDay</th>\n",
              "    </tr>\n",
              "  </thead>\n",
              "  <tbody>\n",
              "    <tr>\n",
              "      <th>0</th>\n",
              "      <td>-5.0</td>\n",
              "    </tr>\n",
              "    <tr>\n",
              "      <th>1</th>\n",
              "      <td>-5.0</td>\n",
              "    </tr>\n",
              "    <tr>\n",
              "      <th>2</th>\n",
              "      <td>-5.0</td>\n",
              "    </tr>\n",
              "    <tr>\n",
              "      <th>3</th>\n",
              "      <td>-3.0</td>\n",
              "    </tr>\n",
              "    <tr>\n",
              "      <th>4</th>\n",
              "      <td>-7.0</td>\n",
              "    </tr>\n",
              "    <tr>\n",
              "      <th>...</th>\n",
              "      <td>...</td>\n",
              "    </tr>\n",
              "    <tr>\n",
              "      <th>366</th>\n",
              "      <td>-7.0</td>\n",
              "    </tr>\n",
              "    <tr>\n",
              "      <th>367</th>\n",
              "      <td>-8.0</td>\n",
              "    </tr>\n",
              "    <tr>\n",
              "      <th>368</th>\n",
              "      <td>-7.5</td>\n",
              "    </tr>\n",
              "    <tr>\n",
              "      <th>369</th>\n",
              "      <td>-7.0</td>\n",
              "    </tr>\n",
              "    <tr>\n",
              "      <th>370</th>\n",
              "      <td>-5.0</td>\n",
              "    </tr>\n",
              "  </tbody>\n",
              "</table>\n",
              "<p>371 rows × 1 columns</p>\n",
              "</div>"
            ],
            "text/plain": [
              "     degreesPerDay\n",
              "0             -5.0\n",
              "1             -5.0\n",
              "2             -5.0\n",
              "3             -3.0\n",
              "4             -7.0\n",
              "..             ...\n",
              "366           -7.0\n",
              "367           -8.0\n",
              "368           -7.5\n",
              "369           -7.0\n",
              "370           -5.0\n",
              "\n",
              "[371 rows x 1 columns]"
            ]
          },
          "metadata": {
            "tags": []
          },
          "execution_count": 65
        }
      ]
    },
    {
      "cell_type": "code",
      "metadata": {
        "colab": {
          "base_uri": "https://localhost:8080/",
          "height": 282
        },
        "id": "8F5G482ysKPy",
        "outputId": "da030b01-7d8f-4ad4-8601-e200f8548b14"
      },
      "source": [
        "dataframePerDayWrong.plot(kind='line')"
      ],
      "execution_count": 67,
      "outputs": [
        {
          "output_type": "execute_result",
          "data": {
            "text/plain": [
              "<matplotlib.axes._subplots.AxesSubplot at 0x7fc47c3a75c0>"
            ]
          },
          "metadata": {
            "tags": []
          },
          "execution_count": 67
        },
        {
          "output_type": "display_data",
          "data": {
            "image/png": "[encoded data removed]",
            "text/plain": [
              "<Figure size 432x288 with 1 Axes>"
            ]
          },
          "metadata": {
            "tags": [],
            "needs_background": "light"
          }
        }
      ]
    },
    {
      "cell_type": "markdown",
      "metadata": {
        "id": "yUuByOWuRnrw"
      },
      "source": [
        "# Comparaison des données corrigées et des données sans erreur\r\n",
        "\r\n",
        "On constate qu'une fois que les données du jeu éronné sont corrigées, les résultats obtenus sont très proches des résultats obtenus avec les données sans erreur."
      ]
    },
    {
      "cell_type": "markdown",
      "metadata": {
        "id": "BbZ9Xtgj_Qii"
      },
      "source": [
        "# courbe de finlande"
      ]
    },
    {
      "cell_type": "code",
      "metadata": {
        "colab": {
          "base_uri": "https://localhost:8080/",
          "height": 419
        },
        "id": "5rbpafY5_O2s",
        "outputId": "6dc67b26-3601-4284-e601-1e6378247043"
      },
      "source": [
        "courbeDataFrame = pd.read_csv(\"/content/drive/MyDrive/mon drive/cours/qualite des donnees/app_python/data/courbeFinlande.csv\")\r\n",
        "courbeDataFrame"
      ],
      "execution_count": 56,
      "outputs": [
        {
          "output_type": "execute_result",
          "data": {
            "text/html": [
              "<div>\n",
              "<style scoped>\n",
              "    .dataframe tbody tr th:only-of-type {\n",
              "        vertical-align: middle;\n",
              "    }\n",
              "\n",
              "    .dataframe tbody tr th {\n",
              "        vertical-align: top;\n",
              "    }\n",
              "\n",
              "    .dataframe thead th {\n",
              "        text-align: right;\n",
              "    }\n",
              "</style>\n",
              "<table border=\"1\" class=\"dataframe\">\n",
              "  <thead>\n",
              "    <tr style=\"text-align: right;\">\n",
              "      <th></th>\n",
              "      <th>jour</th>\n",
              "      <th>temp</th>\n",
              "    </tr>\n",
              "  </thead>\n",
              "  <tbody>\n",
              "    <tr>\n",
              "      <th>0</th>\n",
              "      <td>1</td>\n",
              "      <td>-4.0</td>\n",
              "    </tr>\n",
              "    <tr>\n",
              "      <th>1</th>\n",
              "      <td>2</td>\n",
              "      <td>-4.6</td>\n",
              "    </tr>\n",
              "    <tr>\n",
              "      <th>2</th>\n",
              "      <td>3</td>\n",
              "      <td>-4.4</td>\n",
              "    </tr>\n",
              "    <tr>\n",
              "      <th>3</th>\n",
              "      <td>4</td>\n",
              "      <td>-6.5</td>\n",
              "    </tr>\n",
              "    <tr>\n",
              "      <th>4</th>\n",
              "      <td>5</td>\n",
              "      <td>-11.2</td>\n",
              "    </tr>\n",
              "    <tr>\n",
              "      <th>...</th>\n",
              "      <td>...</td>\n",
              "      <td>...</td>\n",
              "    </tr>\n",
              "    <tr>\n",
              "      <th>360</th>\n",
              "      <td>361</td>\n",
              "      <td>-12.1</td>\n",
              "    </tr>\n",
              "    <tr>\n",
              "      <th>361</th>\n",
              "      <td>362</td>\n",
              "      <td>-9.4</td>\n",
              "    </tr>\n",
              "    <tr>\n",
              "      <th>362</th>\n",
              "      <td>363</td>\n",
              "      <td>-3.1</td>\n",
              "    </tr>\n",
              "    <tr>\n",
              "      <th>363</th>\n",
              "      <td>364</td>\n",
              "      <td>-15.4</td>\n",
              "    </tr>\n",
              "    <tr>\n",
              "      <th>364</th>\n",
              "      <td>365</td>\n",
              "      <td>-12.8</td>\n",
              "    </tr>\n",
              "  </tbody>\n",
              "</table>\n",
              "<p>365 rows × 2 columns</p>\n",
              "</div>"
            ],
            "text/plain": [
              "     jour  temp\n",
              "0       1  -4.0\n",
              "1       2  -4.6\n",
              "2       3  -4.4\n",
              "3       4  -6.5\n",
              "4       5 -11.2\n",
              "..    ...   ...\n",
              "360   361 -12.1\n",
              "361   362  -9.4\n",
              "362   363  -3.1\n",
              "363   364 -15.4\n",
              "364   365 -12.8\n",
              "\n",
              "[365 rows x 2 columns]"
            ]
          },
          "metadata": {
            "tags": []
          },
          "execution_count": 56
        }
      ]
    },
    {
      "cell_type": "code",
      "metadata": {
        "colab": {
          "base_uri": "https://localhost:8080/",
          "height": 282
        },
        "id": "3iKSKKiyBWhJ",
        "outputId": "5146dc9c-14ab-40d2-dbd8-89a57f5d2c4e"
      },
      "source": [
        "courbeDataFrame['temp'].plot(kind='line')"
      ],
      "execution_count": 57,
      "outputs": [
        {
          "output_type": "execute_result",
          "data": {
            "text/plain": [
              "<matplotlib.axes._subplots.AxesSubplot at 0x7fc47c0201d0>"
            ]
          },
          "metadata": {
            "tags": []
          },
          "execution_count": 57
        },
        {
          "output_type": "display_data",
          "data": {
            "image/png": "[encoded data removed]",
            "text/plain": [
              "<Figure size 432x288 with 1 Axes>"
            ]
          },
          "metadata": {
            "tags": [],
            "needs_background": "light"
          }
        }
      ]
    },
    {
      "cell_type": "code",
      "metadata": {
        "colab": {
          "base_uri": "https://localhost:8080/"
        },
        "id": "ZTD4ni3PB_kC",
        "outputId": "1e27645a-74ab-4c8c-d780-bb41c04369a8"
      },
      "source": [
        "courbeDataFrame['temp'].mean()"
      ],
      "execution_count": 58,
      "outputs": [
        {
          "output_type": "execute_result",
          "data": {
            "text/plain": [
              "1.3967123287671224"
            ]
          },
          "metadata": {
            "tags": []
          },
          "execution_count": 58
        }
      ]
    },
    {
      "cell_type": "markdown",
      "metadata": {
        "id": "PeHK-pvZ8a9y"
      },
      "source": [
        "#Pays trouvé: Islande (Reykjavik)\r\n",
        "\r\n",
        "Le pays recherché a donc des températures plus hautes que la finlande sur l'année.\r\n",
        "\r\n",
        "Nous avons fait la température moyenne du pays a trouver et nous avons trouvé: 5.75°C\r\n",
        "\r\n",
        "nous pensons donc que le pays recherché est l'islande avec ce lien comme source d'information sur les température de 2018:\r\n",
        "https://www.infoclimat.fr/climatologie/annee/2018/reykjavik/valeurs/04030.html\r\n",
        "\r\n"
      ]
    }
  ]
}